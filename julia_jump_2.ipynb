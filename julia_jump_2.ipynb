{
 "cells": [
  {
   "cell_type": "markdown",
   "id": "d3cf361e-c77c-4e6a-9395-d27bb2d32a2d",
   "metadata": {},
   "source": [
    "Import necessary pakages"
   ]
  },
  {
   "cell_type": "code",
   "execution_count": 1,
   "id": "32c5330f-abbe-42d5-950a-e95f3f639f27",
   "metadata": {},
   "outputs": [],
   "source": [
    "using JuMP\n",
    "using HiGHS"
   ]
  },
  {
   "cell_type": "code",
   "execution_count": 2,
   "id": "56da656c-60bb-4915-a69b-df1054958370",
   "metadata": {},
   "outputs": [
    {
     "data": {
      "text/plain": [
       "4×4 Matrix{Int64}:\n",
       " 6           10            2  11\n",
       " 8            5  10000000000   2\n",
       " 9            2           11   1\n",
       " 7  10000000000            3   7"
      ]
     },
     "execution_count": 2,
     "metadata": {},
     "output_type": "execute_result"
    }
   ],
   "source": [
    "Tasks = [\"A1\", \"A2\", \"A3\", \"A4\"]\n",
    "T = length(Tasks)\n",
    "Servers = [\"B1\", \"B2\", \"B3\", \"B4\"]\n",
    "S = length(Servers)\n",
    "BigValue = 10000000000\n",
    "c = [# Cost of processing the task i on server j. BigValue is task cannot assing\n",
    "    6 10 2 11;\n",
    "    8 5 BigValue 2;\n",
    "    9 2 11 1;\n",
    "    7 BigValue 3 7;\n",
    "]"
   ]
  },
  {
   "cell_type": "markdown",
   "id": "0e93c97c-1252-464a-a3cf-853ffc232a87",
   "metadata": {},
   "source": [
    "Linear model"
   ]
  },
  {
   "cell_type": "code",
   "execution_count": 3,
   "id": "d4878c39-efbc-4d21-98a9-553bbb3d4fef",
   "metadata": {},
   "outputs": [
    {
     "data": {
      "text/latex": [
       "$$ \\begin{aligned}\n",
       "\\min\\quad & 6 x_{1,1} + 10 x_{1,2} + 2 x_{1,3} + 11 x_{1,4} + 8 x_{2,1} + 5 x_{2,2} + 10000000000 x_{2,3} + 2 x_{2,4} + 9 x_{3,1} + 2 x_{3,2} + 11 x_{3,3} + x_{3,4} + 7 x_{4,1} + 10000000000 x_{4,2} + 3 x_{4,3} + 7 x_{4,4}\\\\\n",
       "\\text{Subject to} \\quad & x_{1,1} + x_{2,1} + x_{3,1} + x_{4,1} = 1\\\\\n",
       " & x_{1,2} + x_{2,2} + x_{3,2} + x_{4,2} = 1\\\\\n",
       " & x_{1,3} + x_{2,3} + x_{3,3} + x_{4,3} = 1\\\\\n",
       " & x_{1,4} + x_{2,4} + x_{3,4} + x_{4,4} = 1\\\\\n",
       " & x_{1,1} + x_{1,2} + x_{1,3} + x_{1,4} = 1\\\\\n",
       " & x_{2,1} + x_{2,2} + x_{2,3} + x_{2,4} = 1\\\\\n",
       " & x_{3,1} + x_{3,2} + x_{3,3} + x_{3,4} = 1\\\\\n",
       " & x_{4,1} + x_{4,2} + x_{4,3} + x_{4,4} = 1\\\\\n",
       " & x_{1,1} \\geq 0\\\\\n",
       " & x_{2,1} \\geq 0\\\\\n",
       " & x_{3,1} \\geq 0\\\\\n",
       " & x_{4,1} \\geq 0\\\\\n",
       " & x_{1,2} \\geq 0\\\\\n",
       " & x_{2,2} \\geq 0\\\\\n",
       " & x_{3,2} \\geq 0\\\\\n",
       " & x_{4,2} \\geq 0\\\\\n",
       " & x_{1,3} \\geq 0\\\\\n",
       " & x_{2,3} \\geq 0\\\\\n",
       " & x_{3,3} \\geq 0\\\\\n",
       " & x_{4,3} \\geq 0\\\\\n",
       " & x_{1,4} \\geq 0\\\\\n",
       " & x_{2,4} \\geq 0\\\\\n",
       " & x_{3,4} \\geq 0\\\\\n",
       " & x_{4,4} \\geq 0\\\\\n",
       "\\end{aligned} $$"
      ]
     },
     "metadata": {},
     "output_type": "display_data"
    },
    {
     "name": "stdout",
     "output_type": "stream",
     "text": [
      "Running HiGHS 1.9.0 (git hash: 66f735e60): Copyright (c) 2024 HiGHS under MIT licence terms\n",
      "Coefficient ranges:\n",
      "  Matrix [1e+00, 1e+00]\n",
      "  Cost   [1e+00, 1e+10]\n",
      "  Bound  [0e+00, 0e+00]\n",
      "  RHS    [1e+00, 1e+00]\n",
      "Presolving model\n",
      "8 rows, 16 cols, 32 nonzeros  0s\n",
      "7 rows, 16 cols, 28 nonzeros  0s\n",
      "Presolve : Reductions: rows 7(-1); columns 16(-0); elements 28(-4)\n",
      "Solving the presolved LP\n",
      "Using EKK dual simplex solver - serial\n",
      "  Iteration        Objective     Infeasibilities num(sum)\n",
      "          0     0.0000000000e+00 Pr: 7(7) 0s\n",
      "          6     1.3000000000e+01 Pr: 0(0) 0s\n",
      "Solving the original LP from the solution after postsolve\n",
      "Model status        : Optimal\n",
      "Simplex   iterations: 6\n",
      "Objective value     :  1.3000000000e+01\n",
      "Relative P-D gap    :  0.0000000000e+00\n",
      "HiGHS run time      :          0.00\n",
      "Termination status: OPTIMAL\n",
      "Optimal objective value: 13.0\n",
      "Task 1 is assigned to server 3\n",
      "Task 2 is assigned to server 4\n",
      "Task 3 is assigned to server 2\n",
      "Task 4 is assigned to server 1\n"
     ]
    }
   ],
   "source": [
    "lp_model = Model(HiGHS.Optimizer)\n",
    "@variable(lp_model, x[t=1:T, s=1:S]>=0)\n",
    "@objective(lp_model, Min, sum(c[t,s] * x[t,s] for t=1:T for s=1:S))\n",
    "@constraint(lp_model, [s=1:S], sum(x[t,s] for t=1:T) == 1)\n",
    "@constraint(lp_model, [t=1:T], sum(x[t,s] for s=1:S) == 1)\n",
    "print(lp_model)\n",
    "optimize!(lp_model)\n",
    "\n",
    "println(\"Termination status: $(termination_status(lp_model))\")\n",
    "if termination_status(lp_model) == MOI.OPTIMAL\n",
    "    println(\"Optimal objective value: $(objective_value(lp_model))\")\n",
    "    for t=1:T\n",
    "        for s=1:S\n",
    "            if value(x[t,s])>0\n",
    "                println(\"Task $(t) is assigned to server $(s)\")\n",
    "            end\n",
    "        end\n",
    "    end\n",
    "else\n",
    "    println(\"No optimal solution available\")\n",
    "end"
   ]
  },
  {
   "cell_type": "markdown",
   "id": "5dfa4651-03c9-40bb-9420-32d0136f3a19",
   "metadata": {},
   "source": [
    "Mixed Integer Model"
   ]
  },
  {
   "cell_type": "code",
   "execution_count": 4,
   "id": "bdc01959-2512-426a-8c2c-d28d25a5852f",
   "metadata": {},
   "outputs": [
    {
     "data": {
      "text/latex": [
       "$$ \\begin{aligned}\n",
       "\\min\\quad & 6 x_{1,1} + 10 x_{1,2} + 2 x_{1,3} + 11 x_{1,4} + 8 x_{2,1} + 5 x_{2,2} + 10000000000 x_{2,3} + 2 x_{2,4} + 9 x_{3,1} + 2 x_{3,2} + 11 x_{3,3} + x_{3,4} + 7 x_{4,1} + 10000000000 x_{4,2} + 3 x_{4,3} + 7 x_{4,4}\\\\\n",
       "\\text{Subject to} \\quad & x_{1,1} + x_{2,1} + x_{3,1} + x_{4,1} = 1\\\\\n",
       " & x_{1,2} + x_{2,2} + x_{3,2} + x_{4,2} = 1\\\\\n",
       " & x_{1,3} + x_{2,3} + x_{3,3} + x_{4,3} = 1\\\\\n",
       " & x_{1,4} + x_{2,4} + x_{3,4} + x_{4,4} = 1\\\\\n",
       " & x_{1,1} + x_{1,2} + x_{1,3} + x_{1,4} = 1\\\\\n",
       " & x_{2,1} + x_{2,2} + x_{2,3} + x_{2,4} = 1\\\\\n",
       " & x_{3,1} + x_{3,2} + x_{3,3} + x_{3,4} = 1\\\\\n",
       " & x_{4,1} + x_{4,2} + x_{4,3} + x_{4,4} = 1\\\\\n",
       " & x_{1,1} \\geq 0\\\\\n",
       " & x_{2,1} \\geq 0\\\\\n",
       " & x_{3,1} \\geq 0\\\\\n",
       " & x_{4,1} \\geq 0\\\\\n",
       " & x_{1,2} \\geq 0\\\\\n",
       " & x_{2,2} \\geq 0\\\\\n",
       " & x_{3,2} \\geq 0\\\\\n",
       " & x_{4,2} \\geq 0\\\\\n",
       " & x_{1,3} \\geq 0\\\\\n",
       " & x_{2,3} \\geq 0\\\\\n",
       " & x_{3,3} \\geq 0\\\\\n",
       " & x_{4,3} \\geq 0\\\\\n",
       " & x_{1,4} \\geq 0\\\\\n",
       " & x_{2,4} \\geq 0\\\\\n",
       " & x_{3,4} \\geq 0\\\\\n",
       " & x_{4,4} \\geq 0\\\\\n",
       " & x_{1,1} \\in \\{0, 1\\}\\\\\n",
       " & x_{2,1} \\in \\{0, 1\\}\\\\\n",
       " & x_{3,1} \\in \\{0, 1\\}\\\\\n",
       " & x_{4,1} \\in \\{0, 1\\}\\\\\n",
       " & x_{1,2} \\in \\{0, 1\\}\\\\\n",
       " & x_{2,2} \\in \\{0, 1\\}\\\\\n",
       " & x_{3,2} \\in \\{0, 1\\}\\\\\n",
       " & x_{4,2} \\in \\{0, 1\\}\\\\\n",
       " & x_{1,3} \\in \\{0, 1\\}\\\\\n",
       " & x_{2,3} \\in \\{0, 1\\}\\\\\n",
       " & x_{3,3} \\in \\{0, 1\\}\\\\\n",
       " & x_{4,3} \\in \\{0, 1\\}\\\\\n",
       " & x_{1,4} \\in \\{0, 1\\}\\\\\n",
       " & x_{2,4} \\in \\{0, 1\\}\\\\\n",
       " & x_{3,4} \\in \\{0, 1\\}\\\\\n",
       " & x_{4,4} \\in \\{0, 1\\}\\\\\n",
       "\\end{aligned} $$"
      ]
     },
     "metadata": {},
     "output_type": "display_data"
    },
    {
     "name": "stdout",
     "output_type": "stream",
     "text": [
      "Running HiGHS 1.9.0 (git hash: 66f735e60): Copyright (c) 2024 HiGHS under MIT licence terms\n",
      "Coefficient ranges:\n",
      "  Matrix [1e+00, 1e+00]\n",
      "  Cost   [1e+00, 1e+10]\n",
      "  Bound  [1e+00, 1e+00]\n",
      "  RHS    [1e+00, 1e+00]\n",
      "Presolving model\n",
      "8 rows, 16 cols, 32 nonzeros  0s\n",
      "8 rows, 16 cols, 32 nonzeros  0s\n",
      "Objective function is integral with scale 1\n",
      "\n",
      "Solving MIP model with:\n",
      "   8 rows\n",
      "   16 cols (16 binary, 0 integer, 0 implied int., 0 continuous)\n",
      "   32 nonzeros\n",
      "\n",
      "Src: B => Branching; C => Central rounding; F => Feasibility pump; H => Heuristic; L => Sub-MIP;\n",
      "     P => Empty MIP; R => Randomized rounding; S => Solve LP; T => Evaluate node; U => Unbounded;\n",
      "     z => Trivial zero; l => Trivial lower; u => Trivial upper; p => Trivial point\n",
      "\n",
      "        Nodes      |    B&B Tree     |            Objective Bounds              |  Dynamic Constraints |       Work      \n",
      "Src  Proc. InQueue |  Leaves   Expl. | BestBound       BestSol              Gap |   Cuts   InLp Confl. | LpIters     Time\n",
      "\n",
      "         0       0         0   0.00%   0               inf                  inf        0      0      0         0     0.0s\n",
      " T       0       0         0   0.00%   0               13               100.00%        0      0      0         6     0.0s\n",
      "         1       0         1 100.00%   13              13                 0.00%        0      0      0         6     0.0s\n",
      "\n",
      "Solving report\n",
      "  Status            Optimal\n",
      "  Primal bound      13\n",
      "  Dual bound        13\n",
      "  Gap               0% (tolerance: 0.01%)\n",
      "  P-D integral      6.60419464111e-05\n",
      "  Solution status   feasible\n",
      "                    13 (objective)\n",
      "                    0 (bound viol.)\n",
      "                    0 (int. viol.)\n",
      "                    0 (row viol.)\n",
      "  Timing            0.02 (total)\n",
      "                    0.00 (presolve)\n",
      "                    0.00 (solve)\n",
      "                    0.00 (postsolve)\n",
      "  Max sub-MIP depth 0\n",
      "  Nodes             1\n",
      "  Repair LPs        0 (0 feasible; 0 iterations)\n",
      "  LP iterations     6 (total)\n",
      "                    0 (strong br.)\n",
      "                    0 (separation)\n",
      "                    0 (heuristics)\n",
      "Termination status: OPTIMAL\n",
      "Optimal objective value: 13.0\n",
      "Task 1 is assigned to server 3\n",
      "Task 2 is assigned to server 4\n",
      "Task 3 is assigned to server 2\n",
      "Task 4 is assigned to server 1\n"
     ]
    }
   ],
   "source": [
    "ilp_model = Model(HiGHS.Optimizer)\n",
    "@variable(ilp_model, x[t=1:T, s=1:S]>=0, Bin)\n",
    "@objective(ilp_model, Min, sum(c[t,s] * x[t,s] for t=1:T for s=1:S))\n",
    "@constraint(ilp_model, [s=1:S], sum(x[t,s] for t=1:T) == 1)\n",
    "@constraint(ilp_model, [t=1:T], sum(x[t,s] for s=1:S) == 1)\n",
    "print(ilp_model)\n",
    "optimize!(ilp_model)\n",
    "\n",
    "println(\"Termination status: $(termination_status(ilp_model))\")\n",
    "if termination_status(ilp_model) == MOI.OPTIMAL\n",
    "    println(\"Optimal objective value: $(objective_value(ilp_model))\")\n",
    "    for t=1:T\n",
    "        for s=1:S\n",
    "            if value(x[t,s])>0\n",
    "                println(\"Task $(t) is assigned to server $(s)\")\n",
    "            end\n",
    "        end\n",
    "    end\n",
    "else\n",
    "    println(\"No optimal solution available\")\n",
    "end"
   ]
  },
  {
   "cell_type": "code",
   "execution_count": 7,
   "id": "216ded1e-c366-49aa-bb3f-4a7ebb5f9b4f",
   "metadata": {},
   "outputs": [
    {
     "name": "stdout",
     "output_type": "stream",
     "text": [
      "Ratio between optimal ILP and LP is: 1.0\n"
     ]
    }
   ],
   "source": [
    "println(\"Ratio between optimal ILP and LP is: $(objective_value(ilp_model)/objective_value(lp_model))\")"
   ]
  },
  {
   "cell_type": "code",
   "execution_count": null,
   "id": "85335179-387c-4fb5-8c07-4e639edf7ed9",
   "metadata": {},
   "outputs": [],
   "source": []
  }
 ],
 "metadata": {
  "kernelspec": {
   "display_name": "Julia 1.11.2",
   "language": "julia",
   "name": "julia-1.11"
  },
  "language_info": {
   "file_extension": ".jl",
   "mimetype": "application/julia",
   "name": "julia",
   "version": "1.11.2"
  }
 },
 "nbformat": 4,
 "nbformat_minor": 5
}
